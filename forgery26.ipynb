{
 "cells": [
  {
   "cell_type": "code",
   "execution_count": null,
   "id": "1bfaae99-a507-4d54-af87-4be93a15b022",
   "metadata": {},
   "outputs": [
    {
     "name": "stdout",
     "output_type": "stream",
     "text": [
      "Copy-move forgery detected!\n"
     ]
    }
   ],
   "source": [
    "import cv2\n",
    "import numpy as np\n",
    "\n",
    "def detect_copy_move(image_path):\n",
    "    # Load imag\"C:\\Users\\vaish\\OneDrive\\Hình ảnh\\IMG20240616104840.jpg\"\n",
    "    image = cv2.imread(r'C:\\Users\\vaish\\Downloads\\bug.jpg')\n",
    "    \n",
    "    # Convert image to grayscale\n",
    "    gray = cv2.cvtColor(image, cv2.COLOR_BGR2GRAY)\n",
    "    \n",
    "    # Apply Gaussian blur\n",
    "    blurred = cv2.GaussianBlur(gray, (5, 5), 0)\n",
    "    \n",
    "    # Initialize SIFT detector which describe features in image\n",
    "    sift = cv2.SIFT_create()\n",
    "    \n",
    "    # Detect keypoints and descriptors\n",
    "    keypoints, descriptors = sift.detectAndCompute(blurred, None)\n",
    "    \n",
    "    # FLANN based matcher\n",
    "    #determine the char and behaviour\n",
    "    \n",
    "    FLANN_INDEX_KDTREE = 1\n",
    "    index_params = dict(algorithm=FLANN_INDEX_KDTREE, trees=5)\n",
    "    search_params = dict(checks=50)\n",
    "    matcher = cv2.FlannBasedMatcher(index_params, search_params)\n",
    "    \n",
    "    # Match descriptors \n",
    "    #numerical representation of image\n",
    "    matches = matcher.knnMatch(descriptors, descriptors, k=2)\n",
    "    \n",
    "    # Ratio test as per Lowe's paper\n",
    "    good_matches = []\n",
    "    for m, n in matches:\n",
    "        if m.distance < 0.75 * n.distance:\n",
    "            good_matches.append(m)\n",
    "    \n",
    "    # Extract matched keypoints\n",
    "    src_pts = np.float32([keypoints[m.queryIdx].pt for m in good_matches]).reshape(-1, 1, 2)\n",
    "    dst_pts = np.float32([keypoints[m.trainIdx].pt for m in good_matches]).reshape(-1, 1, 2)\n",
    "    \n",
    "    # Homography matrix transformation occur in 2 phases\n",
    "    M, mask = cv2.findHomography(src_pts, dst_pts, cv2.RANSAC, 5.0)\n",
    "    \n",
    "    # Apply mask to get inliers\n",
    "    matches_mask = mask.ravel().tolist()\n",
    "    \n",
    "    # Number of inliers\n",
    "    inliers = sum(matches_mask)\n",
    "    \n",
    "    # Threshold for considering it a copy-move\n",
    "    threshold = 10\n",
    "    \n",
    "    if inliers > threshold:\n",
    "        print(\"Copy-move forgery detected!\")\n",
    "    else:\n",
    "        print(\"No copy-move forgery detected.\")\n",
    "    \n",
    "    # Draw matches\n",
    "    draw_params = dict(matchColor=(0, 255, 0),\n",
    "                       singlePointColor=None,\n",
    "                       matchesMask=matches_mask,\n",
    "                       flags=cv2.DrawMatchesFlags_DEFAULT)\n",
    "    \n",
    "    # Draw matches\n",
    "    img_matches = cv2.drawMatches(image, keypoints, image, keypoints, good_matches, None, **draw_params)\n",
    "    \n",
    "    # Show detected regions\n",
    "    cv2.imshow(\"Detected Regions\", img_matches)\n",
    "    cv2.waitKey(0)\n",
    "    cv2.destroyAllWindows()\n",
    "\n",
    "# Example usage\n",
    "if __name__ == \"__main__\":\n",
    "    image_path = (r'C:\\Users\\vaish\\Downloads\\bug.jpg')\n",
    "    detect_copy_move(image_path)\n"
   ]
  },
  {
   "cell_type": "code",
   "execution_count": null,
   "id": "06ff252e-4bca-459b-b5cb-77d9c8a7dddc",
   "metadata": {},
   "outputs": [],
   "source": []
  },
  {
   "cell_type": "code",
   "execution_count": null,
   "id": "89c89273-f061-42b9-aae1-224f6f72f73d",
   "metadata": {},
   "outputs": [],
   "source": []
  },
  {
   "cell_type": "code",
   "execution_count": null,
   "id": "ae8a307a-b4d9-49b1-a545-5c816d25b977",
   "metadata": {},
   "outputs": [],
   "source": []
  }
 ],
 "metadata": {
  "kernelspec": {
   "display_name": "Python 3 (ipykernel)",
   "language": "python",
   "name": "python3"
  },
  "language_info": {
   "codemirror_mode": {
    "name": "ipython",
    "version": 3
   },
   "file_extension": ".py",
   "mimetype": "text/x-python",
   "name": "python",
   "nbconvert_exporter": "python",
   "pygments_lexer": "ipython3",
   "version": "3.12.4"
  }
 },
 "nbformat": 4,
 "nbformat_minor": 5
}
